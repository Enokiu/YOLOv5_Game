{
 "cells": [
  {
   "cell_type": "markdown",
   "metadata": {},
   "source": [
    "### Datensatz für YOLOv5-Format splitten\n",
    "Hierfür wird der selbst generierte Datensatz für das YOLOv5 Training in YOLO Training in 80% Training und 20% Validierungsdatensatz getrennt. Nach der Aufteilung ist es wichtig, sicherzustellen, dass für beide Klassen, nämlich \"Open Hand\" und \"Fist\", ausreichend Bilder vorhanden sind. Ein ausgewogenes Verhältnis zwischen den Klassen ist entscheidend, um ein effektives Training zu gewährleisten.\n",
    "\n",
    "**YOLO-Format**\n",
    "- Die erste Spalte enthält die Klassenindizes.\n",
    "- Die zweite bis fünfte Spalte enthält die normalisierten Koordinaten der Bounding Box (x, y, w, h)."
   ]
  },
  {
   "cell_type": "code",
   "execution_count": null,
   "metadata": {},
   "outputs": [],
   "source": [
    "import os\n",
    "from sklearn.model_selection import train_test_split\n",
    "import shutil"
   ]
  },
  {
   "cell_type": "code",
   "execution_count": 7,
   "metadata": {},
   "outputs": [
    {
     "name": "stdout",
     "output_type": "stream",
     "text": [
      "Aufteilung in Trainings- und Validierungsdaten abgeschlossen.\n"
     ]
    }
   ],
   "source": [
    "# Pfade zu den Ordnern mit Bildern und Labels\n",
    "img_folder = 'dataset/img_merged'\n",
    "labels_folder = 'dataset/labels'\n",
    "\n",
    "# Liste der Dateinamen in den Ordnern\n",
    "img_filenames = os.listdir(img_folder)\n",
    "label_filenames = os.listdir(labels_folder)\n",
    "\n",
    "# Entferne Dateiendungen (z.B. '.jpg', '.txt')\n",
    "img_names = [name.split('.')[0] for name in img_filenames]\n",
    "label_names = [name.split('.')[0] for name in label_filenames]\n",
    "\n",
    "# Überprüfe Übereinstimmung der Dateinamen\n",
    "assert set(img_names) == set(label_names), \"Bild- und Labelnamen stimmen nicht überein!\"\n",
    "\n",
    "# Aufteilung in Trainings- und Validierungsdaten\n",
    "train_img, val_img, train_labels, val_labels = train_test_split(img_names, label_names, test_size=0.2, random_state=42)\n",
    "\n",
    "# Verzeichnis für den gesamten Datensatz erstellen\n",
    "output_dir = '../yolov5_training/dataset'\n",
    "os.makedirs(output_dir, exist_ok=True)\n",
    "\n",
    "# Verzeichnisse für Bilder und Beschriftungen erstellen\n",
    "train_img_dir = os.path.join(output_dir, 'img/train')\n",
    "train_labels_dir = os.path.join(output_dir, 'labels/train')\n",
    "val_img_dir = os.path.join(output_dir, 'img/val')\n",
    "val_labels_dir = os.path.join(output_dir, 'labels/val')\n",
    "\n",
    "os.makedirs(train_img_dir, exist_ok=True)\n",
    "os.makedirs(train_labels_dir, exist_ok=True)\n",
    "os.makedirs(val_img_dir, exist_ok=True)\n",
    "os.makedirs(val_labels_dir, exist_ok=True)\n",
    "\n",
    "# Kopiere Dateien in die entsprechenden Verzeichnisse\n",
    "for img_name, label_name in zip(train_img, train_labels):\n",
    "    shutil.copy(os.path.join(img_folder, img_name + '.jpg'), train_img_dir)\n",
    "    shutil.copy(os.path.join(labels_folder, label_name + '.txt'), train_labels_dir)\n",
    "\n",
    "for img_name, label_name in zip(val_img, val_labels):\n",
    "    shutil.copy(os.path.join(img_folder, img_name + '.jpg'), val_img_dir)\n",
    "    shutil.copy(os.path.join(labels_folder, label_name + '.txt'), val_labels_dir)\n",
    "\n",
    "print(\"Aufteilung in Trainings- und Validierungsdaten abgeschlossen.\")\n"
   ]
  },
  {
   "cell_type": "markdown",
   "metadata": {},
   "source": [
    "**Erstellung einer classes.txt**\n",
    "- Enthält Klassennamen und Klassenindiz"
   ]
  },
  {
   "cell_type": "code",
   "execution_count": 4,
   "metadata": {},
   "outputs": [
    {
     "name": "stdout",
     "output_type": "stream",
     "text": [
      "classes.txt-Datei erstellt in Trainings- und Validierungsordnern.\n"
     ]
    }
   ],
   "source": [
    "# Pfade zu den Ordnern mit Bildern und Labels\n",
    "img_folder = 'dataset/img_merged'\n",
    "labels_folder = 'dataset/labels'\n",
    "\n",
    "# Liste der Dateinamen in den Ordnern\n",
    "img_filenames = os.listdir(img_folder)\n",
    "label_filenames = os.listdir(labels_folder)\n",
    "\n",
    "# Klassen und ihre Indizierung definieren\n",
    "classes = {\n",
    "    'Open_Hand': 0,\n",
    "    'Fist': 1\n",
    "}\n",
    "\n",
    "# Inhalt für die classes.txt-Datei erstellen\n",
    "classes_content = \"\\n\".join([f\"{class_idx} {class_name}\" for class_name, class_idx in classes.items()])\n",
    "\n",
    "# Verzeichnis für die classes.txt-Datei in Trainings- und Validierungsdaten erstellen\n",
    "output_dir_train = '../yolov5_training/dataset/labels/train'\n",
    "output_dir_val = '../yolov5_training/dataset/labels/val'\n",
    "\n",
    "os.makedirs(output_dir_train, exist_ok=True)\n",
    "os.makedirs(output_dir_val, exist_ok=True)\n",
    "\n",
    "# classes.txt-Datei in Trainings- und Validierungsordnern erstellen\n",
    "classes_file_path_train = os.path.join(output_dir_train, 'classes.txt')\n",
    "classes_file_path_val = os.path.join(output_dir_val, 'classes.txt')\n",
    "\n",
    "with open(classes_file_path_train, 'w') as classes_file_train:\n",
    "    classes_file_train.write(classes_content)\n",
    "\n",
    "with open(classes_file_path_val, 'w') as classes_file_val:\n",
    "    classes_file_val.write(classes_content)\n",
    "\n",
    "print(\"classes.txt-Datei erstellt in Trainings- und Validierungsordnern.\")\n"
   ]
  },
  {
   "cell_type": "markdown",
   "metadata": {},
   "source": [
    "**YAML-Datei**\n",
    "Die YAML-Datei ist eine Konfigurationsdatei für das Training des YOLO-Modells. Diese ist wie folgt aufgebaut:\n",
    "- `train`: Pfad zum Verzeichnis, das die Trainingsbilder enthält.\n",
    "- `val`: Pfad zum Verzeichnis mit den Validierungsbildern.\n",
    "- `nc`: Anzahl der Klassen im Datensatz.\n",
    "- `names`: Eine Liste der Klassennamen. \n",
    "- `patience`: Anzahl der Epochen, die gewartet werden, wenn die Leistung des Modells nicht besser wird, bevor das Training beendet wird. Hierbei kann bei Overfitting das Training automatisch abgebrochen werden.\n",
    "- `delta`: Schwellenwert, um zu bestimmen, ob die Leistung des Modells sich verbessert hat. Wenn die Verbesserung kleiner als dieser Schwellenwert ist, wird das Training gestoppt. "
   ]
  },
  {
   "cell_type": "code",
   "execution_count": 4,
   "metadata": {},
   "outputs": [
    {
     "name": "stdout",
     "output_type": "stream",
     "text": [
      "Die data.yaml-Datei wurde erfolgreich erstellt: ../yolov5_training/dataset/data.yaml\n"
     ]
    }
   ],
   "source": [
    "data_path = \"../yolov5_training/dataset/data.yaml\"\n",
    "train_path = \"../../yolov5_training/dataset/images/train/\"\n",
    "val_path = \"../../yolov5_training/dataset/images/val/\"\n",
    "class_names_file = \"../yolov5_training/dataset/labels/train/classes.txt\"\n",
    "\n",
    "with open(class_names_file, 'r') as f:\n",
    "    class_names = [line.strip().split(' ', 1)[1] for line in f.readlines()]\n",
    "\n",
    "data_yaml = f\"train: {train_path}\\n\" \\\n",
    "            f\"val: {val_path}\\n\" \\\n",
    "            f\"nc: {len(class_names)}\\n\" \\\n",
    "            f\"names: {class_names}\\n\" \\\n",
    "            f\"patience: 5  # Anzahl der Epochen, die gewartet werden, wenn die Leistung nicht besser wird\\n\" \\\n",
    "            f\"delta: 0.0001  # Schwellenwert, um zu bestimmen, ob die Leistung sich verbessert hat\\n\" \n",
    "\n",
    "with open(data_path, 'w') as file:\n",
    "    file.write(data_yaml)\n",
    "\n",
    "print(f\"Die data.yaml-Datei wurde erfolgreich erstellt: {data_path}\")"
   ]
  }
 ],
 "metadata": {
  "kernelspec": {
   "display_name": "YOLOv5_Game",
   "language": "python",
   "name": "python3"
  },
  "language_info": {
   "codemirror_mode": {
    "name": "ipython",
    "version": 3
   },
   "file_extension": ".py",
   "mimetype": "text/x-python",
   "name": "python",
   "nbconvert_exporter": "python",
   "pygments_lexer": "ipython3",
   "version": "3.9.16"
  },
  "orig_nbformat": 4
 },
 "nbformat": 4,
 "nbformat_minor": 2
}
