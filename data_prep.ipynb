{
 "cells": [
  {
   "cell_type": "code",
   "execution_count": null,
   "metadata": {},
   "outputs": [],
   "source": [
    "import cv2\n",
    "\n",
    "def capture_images(camera_index, num_images):\n",
    "        return\n",
    "\n",
    "    for i in range(num_images):\n",
    "        # Bilder aufnehmen\n",
    "        ret, frame = cap.read()\n",
    "        if not ret:\n",
    "            print(\"Fehler beim Erfassen des Bildes.\")\n",
    "            break\n",
    "\n",
    "        # Bild anzeigen\n",
    "        cv2.imshow(f\"Bild {i+1}\", frame)\n",
    "\n",
    "        # Warte 1 Sekunde zwischen den Bildern\n",
    "        cv2.waitKey(1000)\n",
    "\n",
    "        # Bild speichern\n",
    "        file_name = f\"bild_{i+1}.jpg\"\n",
    "        cv2.imwrite(file_name, frame)\n",
    "\n",
    "    # Kamera freigeben und alle Fenster schließen\n",
    "    cap.release()\n",
    "    cv2.destroyAllWindows()\n",
    "\n",
    "if __name__ == \"__main__\":\n",
    "    camera_index = 0  # 0 für die Vorderkamera, 1 für die Rückkamera (falls vorhanden)\n",
    "    num_images = 100\n",
    "\n",
    "    capture_images(camera_index, num_images)\n"
   ]
  }
 ],
 "metadata": {
  "kernelspec": {
   "display_name": "YOLOv5_Game",
   "language": "python",
   "name": "python3"
  },
  "language_info": {
   "name": "python",
   "version": "3.9.16"
  },
  "orig_nbformat": 4
 },
 "nbformat": 4,
 "nbformat_minor": 2
}
