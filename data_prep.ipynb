{
 "cells": [
  {
   "cell_type": "code",
   "execution_count": null,
   "metadata": {},
   "outputs": [],
   "source": []
  },
  {
   "cell_type": "code",
   "execution_count": 19,
   "metadata": {},
   "outputs": [],
   "source": [
    "import cv2\n",
    "import os\n",
    "\n",
    "def get_last_image_index(save_directory):\n",
    "    image_files = [f for f in os.listdir(save_directory) if os.path.isfile(os.path.join(save_directory, f))]\n",
    "    if not image_files:\n",
    "        return 0\n",
    "\n",
    "    indexes = [int(f.split('.')[0]) for f in image_files]\n",
    "    return max(indexes)\n",
    "\n",
    "def is_black_image(frame, threshold=30):\n",
    "    # Berechne die durchschnittliche Helligkeit des Bildes\n",
    "    avg_brightness = int(frame.mean())\n",
    "\n",
    "    # Wenn die durchschnittliche Helligkeit unter dem Schwellenwert liegt, ist das Bild größtenteils schwarz\n",
    "    return avg_brightness < threshold\n",
    "\n",
    "def capture_images(camera_index, num_images, save_directory):\n",
    "    # Öffne die hintere Kamera\n",
    "    cap = cv2.VideoCapture(camera_index)\n",
    "\n",
    "    if not cap.isOpened():\n",
    "        print(\"Kamera konnte nicht geöffnet werden.\")\n",
    "        return\n",
    "\n",
    "    # Erstelle das Verzeichnis, falls es nicht existiert\n",
    "    os.makedirs(save_directory, exist_ok=True)\n",
    "\n",
    "    # Wir lesen das erste Bild ohne es zu speichern\n",
    "    _, _ = cap.read()\n",
    "\n",
    "    last_index = get_last_image_index(save_directory)\n",
    "    start_index = last_index + 1\n",
    "\n",
    "    for i in range(start_index - 1, start_index + num_images - 1):\n",
    "        # Bilder aufnehmen\n",
    "        ret, frame = cap.read()\n",
    "        if not ret:\n",
    "            print(\"Fehler beim Erfassen des Bildes.\")\n",
    "            break\n",
    "\n",
    "        # Bild anzeigen\n",
    "        cv2.imshow(f\"Bild {i}\", frame)\n",
    "\n",
    "        # Warte 1 Sekunde zwischen den Bildern\n",
    "        cv2.waitKey(1000)\n",
    "\n",
    "        # Überprüfe, ob das Bild schwarz ist\n",
    "        if not is_black_image(frame):\n",
    "            # Bild speichern\n",
    "            file_name = os.path.join(save_directory, f\"{i}.jpg\")\n",
    "            cv2.imwrite(file_name, frame)\n",
    "\n",
    "    # Kamera freigeben und alle Fenster schließen\n",
    "    cap.release()\n",
    "    cv2.destroyAllWindows()"
   ]
  },
  {
   "cell_type": "code",
   "execution_count": 20,
   "metadata": {},
   "outputs": [],
   "source": [
    "camera_index = 0  # 0 für die Vorderkamera, 1 für die Rückkamera (falls vorhanden)\n",
    "num_images = 101\n",
    "save_directory = \"./dataset/img\"\n",
    "\n",
    "capture_images(camera_index, num_images, save_directory)"
   ]
  },
  {
   "cell_type": "code",
   "execution_count": null,
   "metadata": {},
   "outputs": [],
   "source": [
    "capture_images(camera_index, num_images, save_directory)"
   ]
  },
  {
   "cell_type": "code",
   "execution_count": null,
   "metadata": {},
   "outputs": [],
   "source": []
  }
 ],
 "metadata": {
  "kernelspec": {
   "display_name": "Python 3 (ipykernel)",
   "language": "python",
   "name": "python3"
  },
  "language_info": {
   "codemirror_mode": {
    "name": "ipython",
    "version": 3
   },
   "file_extension": ".py",
   "mimetype": "text/x-python",
   "name": "python",
   "nbconvert_exporter": "python",
   "pygments_lexer": "ipython3",
   "version": "3.11.3"
  }
 },
 "nbformat": 4,
 "nbformat_minor": 2
}
