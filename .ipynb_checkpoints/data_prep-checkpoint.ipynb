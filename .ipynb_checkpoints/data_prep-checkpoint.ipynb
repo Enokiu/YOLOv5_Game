{
 "cells": [
  {
   "cell_type": "code",
   "execution_count": 1,
   "metadata": {},
   "outputs": [
    {
     "ename": "ModuleNotFoundError",
     "evalue": "No module named 'cv2'",
     "output_type": "error",
     "traceback": [
      "\u001b[1;31m---------------------------------------------------------------------------\u001b[0m",
      "\u001b[1;31mModuleNotFoundError\u001b[0m                       Traceback (most recent call last)",
      "Cell \u001b[1;32mIn[1], line 1\u001b[0m\n\u001b[1;32m----> 1\u001b[0m \u001b[38;5;28;01mimport\u001b[39;00m \u001b[38;5;21;01mcv2\u001b[39;00m\n\u001b[0;32m      3\u001b[0m \u001b[38;5;28;01mdef\u001b[39;00m \u001b[38;5;21mcapture_images\u001b[39m(camera_index, num_images):\n\u001b[0;32m      4\u001b[0m     \u001b[38;5;66;03m# Öffne die Vorderkamera\u001b[39;00m\n\u001b[0;32m      5\u001b[0m     cap \u001b[38;5;241m=\u001b[39m cv2\u001b[38;5;241m.\u001b[39mVideoCapture(camera_index)\n",
      "\u001b[1;31mModuleNotFoundError\u001b[0m: No module named 'cv2'"
     ]
    }
   ],
   "source": [
    "import cv2\n",
    "\n",
    "def capture_images(camera_index, num_images):\n",
    "    # Öffne die Vorderkamera\n",
    "    cap = cv2.VideoCapture(camera_index)\n",
    "\n",
    "    if not cap.isOpened():\n",
    "        print(\"Kamera konnte nicht geöffnet werden.\")\n",
    "        return\n",
    "\n",
    "    for i in range(num_images):\n",
    "        # Bilder aufnehmen\n",
    "        ret, frame = cap.read()\n",
    "        if not ret:\n",
    "            print(\"Fehler beim Erfassen des Bildes.\")\n",
    "            break\n",
    "\n",
    "        # Bild anzeigen\n",
    "        cv2.imshow(f\"Bild {i+1}\", frame)\n",
    "\n",
    "        # Warte 1 Sekunde zwischen den Bildern\n",
    "        cv2.waitKey(1000)\n",
    "\n",
    "        # Bild speichern\n",
    "        file_name = f\"bild_{i+1}.jpg\"\n",
    "        cv2.imwrite(file_name, frame)\n",
    "\n",
    "    # Kamera freigeben und alle Fenster schließen\n",
    "    cap.release()\n",
    "    cv2.destroyAllWindows()\n",
    "\n",
    "if __name__ == \"__main__\":\n",
    "    camera_index = 0  # 0 für die Vorderkamera, 1 für die Rückkamera (falls vorhanden)\n",
    "    num_images = 100\n",
    "\n",
    "    capture_images(camera_index, num_images)\n"
   ]
  },
  {
   "cell_type": "code",
   "execution_count": null,
   "metadata": {},
   "outputs": [],
   "source": []
  }
 ],
 "metadata": {
  "kernelspec": {
   "display_name": "Python 3 (ipykernel)",
   "language": "python",
   "name": "python3"
  },
  "language_info": {
   "codemirror_mode": {
    "name": "ipython",
    "version": 3
   },
   "file_extension": ".py",
   "mimetype": "text/x-python",
   "name": "python",
   "nbconvert_exporter": "python",
   "pygments_lexer": "ipython3",
   "version": "3.11.3"
  }
 },
 "nbformat": 4,
 "nbformat_minor": 2
}
