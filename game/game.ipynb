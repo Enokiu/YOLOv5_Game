{
 "cells": [
  {
   "cell_type": "markdown",
   "metadata": {},
   "source": [
    "#### Game"
   ]
  },
  {
   "cell_type": "code",
   "execution_count": 9,
   "metadata": {},
   "outputs": [
    {
     "ename": "SystemExit",
     "evalue": "",
     "output_type": "error",
     "traceback": [
      "An exception has occurred, use %tb to see the full traceback.\n",
      "\u001b[1;31mSystemExit\u001b[0m\n"
     ]
    },
    {
     "name": "stderr",
     "output_type": "stream",
     "text": [
      "C:\\Users\\saniy\\AppData\\Roaming\\Python\\Python39\\site-packages\\IPython\\core\\interactiveshell.py:3516: UserWarning: To exit: use 'exit', 'quit', or Ctrl-D.\n",
      "  warn(\"To exit: use 'exit', 'quit', or Ctrl-D.\", stacklevel=1)\n"
     ]
    }
   ],
   "source": [
    "import pygame\n",
    "import sys\n",
    "import random\n",
    "\n",
    "pygame.init()\n",
    "screen = pygame.display.set_mode((1280, 720))\n",
    "clock = pygame.time.Clock()\n",
    "pygame.display.set_caption(\"YOLOv5 Game\")\n",
    "\n",
    "game_font = pygame.font.Font(\"assets/MotleyForcesRegular-w1rZ3.ttf\", 24)\n",
    "\n",
    "# Variables\n",
    "game_speed = 5\n",
    "\n",
    "\n",
    "# Classes\n",
    "class Player(pygame.sprite.Sprite):\n",
    "    def __init__(self, x_pos, y_pos):\n",
    "        super().__init__()\n",
    "\n",
    "        self.running_sprites = []\n",
    "        self.running_sprites.append(pygame.transform.scale(\n",
    "            pygame.image.load(\"assets/Dino1.png\"), (80, 100)))\n",
    "        self.running_sprites.append(pygame.transform.scale(\n",
    "            pygame.image.load(\"assets/Dino2.png\"), (80, 100)))\n",
    "\n",
    "        self.x = x_pos\n",
    "        self.y = y_pos\n",
    "\n",
    "        self.current_image = 0\n",
    "        self.image = self.running_sprites[self.current_image]\n",
    "        self.rect = self.image.get_rect(center=(self.x, self.y))  # Corrected line\n",
    "\n",
    "    def update(self):\n",
    "        self.animate()\n",
    "\n",
    "    def animate(self):\n",
    "        self.current_image += 0.05\n",
    "        if self.current_image >= 2:\n",
    "            self.current_image = 0\n",
    "\n",
    "        self.image = self.running_sprites[int(self.current_image)]\n",
    "\n",
    "\n",
    "\n",
    "# Surfaces\n",
    "ground = pygame.image.load(\"assets/background.png\")\n",
    "ground = pygame.transform.scale(ground, (1280, 900))\n",
    "ground_x = 0\n",
    "ground_rect = ground.get_rect(center=(640, 400))\n",
    "\n",
    "#Groups\n",
    "player_group = pygame.sprite.GroupSingle()\n",
    "\n",
    "# Objects\n",
    "player = Player(50, 440)\n",
    "player_group.add(player)\n",
    " \n",
    "\n",
    "while True:\n",
    "    for event in pygame.event.get():\n",
    "        if event.type == pygame.QUIT:\n",
    "            pygame.quit()\n",
    "            sys.exit()\n",
    "\n",
    "    screen.fill(\"white\")\n",
    "\n",
    "    \n",
    "\n",
    "    game_speed += 0.0025\n",
    "\n",
    "\n",
    "    ground_x -=1\n",
    "\n",
    "    screen.blit(ground, (ground_x, 0))\n",
    "    screen.blit(ground, (ground_x + 1280, 0))\n",
    "\n",
    "    player_group.update()\n",
    "    player_group.draw(screen)\n",
    "\n",
    "    if ground_x <= -1280:\n",
    "        ground_x = 0\n",
    "\n",
    "    pygame.display.update()\n",
    "    clock.tick(120)\n",
    "\n",
    "\n",
    "\n",
    "\n"
   ]
  },
  {
   "cell_type": "code",
   "execution_count": null,
   "metadata": {},
   "outputs": [],
   "source": []
  }
 ],
 "metadata": {
  "kernelspec": {
   "display_name": "Python 3 (ipykernel)",
   "language": "python",
   "name": "python3"
  },
  "language_info": {
   "codemirror_mode": {
    "name": "ipython",
    "version": 3
   },
   "file_extension": ".py",
   "mimetype": "text/x-python",
   "name": "python",
   "nbconvert_exporter": "python",
   "pygments_lexer": "ipython3",
   "version": "3.9.11"
  }
 },
 "nbformat": 4,
 "nbformat_minor": 2
}
