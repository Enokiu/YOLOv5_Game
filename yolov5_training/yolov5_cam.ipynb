{
 "cells": [
  {
   "cell_type": "code",
   "execution_count": 2,
   "metadata": {},
   "outputs": [
    {
     "name": "stderr",
     "output_type": "stream",
     "text": [
      "Cloning into 'yolov5'...\n"
     ]
    }
   ],
   "source": [
    "!git clone \"https://github.com/ultralytics/yolov5.git\""
   ]
  },
  {
   "cell_type": "code",
   "execution_count": 3,
   "metadata": {},
   "outputs": [
    {
     "name": "stdout",
     "output_type": "stream",
     "text": [
      "c:\\Users\\saniy\\OneDrive\\Desktop\\YOLOv5_Game\\yolov5_training\\yolov5\n"
     ]
    }
   ],
   "source": [
    "%cd yolov5"
   ]
  },
  {
   "cell_type": "code",
   "execution_count": 9,
   "metadata": {},
   "outputs": [
    {
     "name": "stderr",
     "output_type": "stream",
     "text": [
      "\u001b[34m\u001b[1mdetect: \u001b[0mweights=['../exp16/weights/last.pt'], source=0, data=data\\coco128.yaml, imgsz=[640, 640], conf_thres=0.25, iou_thres=0.45, max_det=1000, device=cpu, view_img=False, save_txt=False, save_conf=False, save_crop=False, nosave=False, classes=None, agnostic_nms=False, augment=False, visualize=False, update=False, project=runs\\detect, name=exp, exist_ok=False, line_thickness=3, hide_labels=False, hide_conf=False, half=False, dnn=False, vid_stride=1\n",
      "YOLOv5  v7.0-212-g9974d51 Python-3.9.11 torch-2.0.1+cpu CPU\n",
      "\n",
      "Fusing layers... \n",
      "YOLOv5s summary: 157 layers, 7015519 parameters, 0 gradients\n",
      "1/1: 0...  Success (inf frames 1920x1080 at 30.00 FPS)\n",
      "\n",
      "0: 384x640 (no detections), 964.3ms\n",
      "0: 384x640 (no detections), 1184.1ms\n",
      "0: 384x640 (no detections), 787.0ms\n",
      "0: 384x640 (no detections), 3177.8ms\n",
      "0: 384x640 1 Open_Hand, 1 Fist, 2162.2ms\n",
      "0: 384x640 1 Open_Hand, 1 Fist, 1326.2ms\n",
      "0: 384x640 1 Open_Hand, 1 Fist, 1307.0ms\n",
      "0: 384x640 1 Open_Hand, 1 Fist, 1498.0ms\n",
      "0: 384x640 2 Fists, 1348.5ms\n",
      "0: 384x640 2 Fists, 1443.4ms\n",
      "0: 384x640 2 Fists, 1191.0ms\n",
      "0: 384x640 2 Fists, 711.0ms\n",
      "0: 384x640 2 Fists, 769.3ms\n",
      "0: 384x640 2 Fists, 719.8ms\n",
      "0: 384x640 2 Fists, 711.0ms\n",
      "0: 384x640 2 Fists, 653.0ms\n",
      "0: 384x640 1 Open_Hand, 1 Fist, 1437.0ms\n",
      "0: 384x640 1 Open_Hand, 1 Fist, 3675.8ms\n",
      "0: 384x640 1 Open_Hand, 1 Fist, 1523.0ms\n",
      "0: 384x640 1 Open_Hand, 1 Fist, 1219.4ms\n",
      "0: 384x640 1 Fist, 1367.0ms\n",
      "0: 384x640 1 Fist, 1384.1ms\n",
      "0: 384x640 1 Fist, 878.9ms\n",
      "0: 384x640 1 Fist, 744.4ms\n",
      "0: 384x640 1 Fist, 780.9ms\n",
      "0: 384x640 1 Fist, 726.0ms\n",
      "0: 384x640 1 Fist, 3407.6ms\n",
      "0: 384x640 1 Fist, 1886.5ms\n",
      "0: 384x640 1 Fist, 1297.1ms\n",
      "Speed: 10.0ms pre-process, 1389.0ms inference, 2.9ms NMS per image at shape (1, 3, 640, 640)\n",
      "Results saved to \u001b[1mruns\\detect\\exp4\u001b[0m\n"
     ]
    }
   ],
   "source": [
    "!python detect.py --weights ../exp16/weights/last.pt --img-size 640 --device cpu --source 0\n"
   ]
  },
  {
   "cell_type": "code",
   "execution_count": null,
   "metadata": {},
   "outputs": [],
   "source": [
    "%cd .."
   ]
  }
 ],
 "metadata": {
  "kernelspec": {
   "display_name": "Python 3",
   "language": "python",
   "name": "python3"
  },
  "language_info": {
   "codemirror_mode": {
    "name": "ipython",
    "version": 3
   },
   "file_extension": ".py",
   "mimetype": "text/x-python",
   "name": "python",
   "nbconvert_exporter": "python",
   "pygments_lexer": "ipython3",
   "version": "3.9.11"
  },
  "orig_nbformat": 4
 },
 "nbformat": 4,
 "nbformat_minor": 2
}
